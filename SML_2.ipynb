{
 "cells": [
  {
   "cell_type": "code",
   "execution_count": 105,
   "metadata": {},
   "outputs": [
    {
     "name": "stdout",
     "output_type": "stream",
     "text": [
      "x_test\n",
      "x_train\n",
      "y_train\n",
      "y_test\n"
     ]
    }
   ],
   "source": [
    "import numpy as np\n",
    "import matplotlib.pyplot as plt\n",
    "data = np.load('/home/somya/SML_2/mnist.npz')\n",
    "for file in data.files:\n",
    "  print(file)"
   ]
  },
  {
   "cell_type": "code",
   "execution_count": 153,
   "metadata": {},
   "outputs": [
    {
     "name": "stdout",
     "output_type": "stream",
     "text": [
      "(10000, 784)\n",
      "980\n",
      "1135\n",
      "1032\n",
      "(784, 784)\n",
      "(3147, 10)\n",
      "(3147,)\n"
     ]
    }
   ],
   "source": [
    "X_test=np.zeros((3147,784))\n",
    "Y_test = np.zeros((3147,))\n",
    "data_test = data['x_test'].reshape(10000,-1)\n",
    "print(data_test.shape)\n",
    "for k in range(3):\n",
    "  j=0\n",
    "  indices = np.where(data['y_test']==k)[0]\n",
    "  for i in indices:\n",
    "    X_test[j] = data_test[i]\n",
    "    Y_test[j] = k\n",
    "    j+=1\n",
    "  print(len(indices))\n",
    "X_test = X_test.T\n",
    "cov_matrix = np.dot(X_test,X_test.T)/18622\n",
    "eigenvalues , eigenvectors = np.linalg.eigh(cov_matrix)\n",
    "sorted = np.argsort(eigenvalues)[::-1]\n",
    "eigenvalues = eigenvalues[sorted]\n",
    "eigenvectors = eigenvectors[:, sorted]\n",
    "U = eigenvectors\n",
    "print(U.shape)\n",
    "X_test=np.dot(X_test.T, U[:, :10])\n",
    "print(X_test.shape)\n",
    "print(Y_test.shape)"
   ]
  },
  {
   "cell_type": "code",
   "execution_count": 130,
   "metadata": {},
   "outputs": [
    {
     "name": "stdout",
     "output_type": "stream",
     "text": [
      "5923\n",
      "6742\n",
      "5958\n"
     ]
    }
   ],
   "source": [
    "X = np.zeros((18623,784))\n",
    "Y = np.zeros(18623)\n",
    "dataset = data['x_train'].reshape(60000,-1)\n",
    "for k in range(3):\n",
    "  j=0\n",
    "  indices = np.where(data['y_train']==k)[0]\n",
    "  for i in indices:\n",
    "    X[j] = dataset[i]\n",
    "    Y[j] = k\n",
    "    j+=1\n",
    "  print(len(indices))\n",
    "X=X.T\n"
   ]
  },
  {
   "cell_type": "code",
   "execution_count": 131,
   "metadata": {},
   "outputs": [
    {
     "name": "stdout",
     "output_type": "stream",
     "text": [
      "2.0\n"
     ]
    }
   ],
   "source": [
    "print(Y[10])\n",
    "# Y= Y.reshape(-1,1)"
   ]
  },
  {
   "cell_type": "code",
   "execution_count": 133,
   "metadata": {},
   "outputs": [
    {
     "name": "stdout",
     "output_type": "stream",
     "text": [
      "(784, 18623)\n"
     ]
    }
   ],
   "source": [
    "print(X.shape)\n",
    "means = np.mean(X,axis=1,keepdims=True)\n",
    "X = X - means"
   ]
  },
  {
   "cell_type": "code",
   "execution_count": 134,
   "metadata": {},
   "outputs": [
    {
     "name": "stdout",
     "output_type": "stream",
     "text": [
      "2.0\n"
     ]
    }
   ],
   "source": [
    "cov_matrix = np.dot(X,X.T)/18622\n",
    "print(Y[0])"
   ]
  },
  {
   "cell_type": "code",
   "execution_count": 135,
   "metadata": {},
   "outputs": [
    {
     "name": "stdout",
     "output_type": "stream",
     "text": [
      "(784, 784)\n",
      "(784, 784)\n"
     ]
    }
   ],
   "source": [
    "print(cov_matrix.shape)\n",
    "eigenvalues , eigenvectors = np.linalg.eigh(cov_matrix)\n",
    "sorted = np.argsort(eigenvalues)[::-1]\n",
    "eigenvalues = eigenvalues[sorted]\n",
    "eigenvectors = eigenvectors[:, sorted]\n",
    "U = eigenvectors\n",
    "print(U.shape)\n",
    "X=np.dot(X.T, U[:, :10])"
   ]
  },
  {
   "cell_type": "code",
   "execution_count": 136,
   "metadata": {},
   "outputs": [
    {
     "name": "stdout",
     "output_type": "stream",
     "text": [
      "<class 'numpy.ndarray'>\n",
      "(18623, 10)\n",
      "(18623,)\n"
     ]
    }
   ],
   "source": [
    "print(type(X))\n",
    "print(X.shape)\n",
    "print(Y.shape)"
   ]
  },
  {
   "cell_type": "code",
   "execution_count": 137,
   "metadata": {},
   "outputs": [
    {
     "name": "stdout",
     "output_type": "stream",
     "text": [
      "(18623, 10)\n",
      "(18623,)\n"
     ]
    }
   ],
   "source": [
    "import pandas as pd\n",
    "df = pd.DataFrame(X,columns=['column0','column1','column2','column3','column4','column5','column6','column7','column8','column9'])\n",
    "print(df.shape)\n",
    "print(Y.shape)\n",
    "# k = Y.tolist()\n",
    "# print(type(k))\n",
    "# df['Target_value'] = k"
   ]
  },
  {
   "cell_type": "code",
   "execution_count": 138,
   "metadata": {},
   "outputs": [],
   "source": [
    "medians=[]\n",
    "for i in range(10):\n",
    "     k = df.iloc[:, i].median()\n",
    "     medians.append(k)"
   ]
  },
  {
   "cell_type": "code",
   "execution_count": 85,
   "metadata": {},
   "outputs": [],
   "source": [
    "# Y = Y.tolist()\n",
    "# print(Y[0])"
   ]
  },
  {
   "cell_type": "code",
   "execution_count": 139,
   "metadata": {},
   "outputs": [
    {
     "name": "stdout",
     "output_type": "stream",
     "text": [
      "<class 'pandas.core.frame.DataFrame'>\n"
     ]
    }
   ],
   "source": [
    "print(type(df))"
   ]
  },
  {
   "cell_type": "code",
   "execution_count": 232,
   "metadata": {},
   "outputs": [],
   "source": [
    "from collections import Counter\n",
    "def get_most_occurring_feature(classes):\n",
    "        counter = Counter(classes)\n",
    "        k, v = counter.most_common(1)[0]\n",
    "        return k\n",
    "def partition_classes(X,y,attribute,val):\n",
    "    X_left=[]\n",
    "    X_right=[]\n",
    "\n",
    "    y_left=[]\n",
    "    y_right=[]\n",
    "    for i in range(len(X)):\n",
    "        if float(X[i][attribute]<=val):\n",
    "            X_left.append(X[i])\n",
    "            y_left.append(y[i])\n",
    "        else:\n",
    "            X_right.append(X[i])\n",
    "            y_right.append(y[i])\n",
    "    return X_left,X_right,y_left,y_right\n",
    "class DecisionNode:\n",
    "    def __init__(self,left,right,decison_function,class_label=None):\n",
    "        self.left = left\n",
    "        self.right = right\n",
    "        self.decision_function = decison_function\n",
    "        self.class_label = class_label\n",
    "    def decide(self,feature):\n",
    "        if self.class_label is not None:\n",
    "            return self.class_label\n",
    "        elif self.decision_function(feature):\n",
    "            return self.left.decide(feature)\n",
    "        else:\n",
    "            return self.right.decide(feature)\n",
    "def gini_impurity(class_vector):\n",
    "        counts = Counter(class_vector)\n",
    "        prob_zero = counts[0]/len(class_vector)\n",
    "        prob_one = counts[1]/len(class_vector)\n",
    "        prob_two = counts[2]/len(class_vector)\n",
    "        prob_sum = prob_zero**2 + prob_one**2 + prob_two**2\n",
    "        return 1-prob_sum\n",
    "def gini_gain(pre_classes,curr_classes):\n",
    "    pre_gini_gain = gini_impurity(pre_classes)\n",
    "    curr_gini_gain=0\n",
    "    pre_len = len(pre_classes)\n",
    "    if len(curr_classes[0])==0 or len(curr_classes[1])==0:\n",
    "        return 0\n",
    "    for ll in curr_classes:\n",
    "        curr_length = len(ll)\n",
    "        curr_gini_gain += gini_impurity(ll) * float(curr_length)/pre_len\n",
    "    return pre_gini_gain-curr_gini_gain\n",
    "\n",
    "class DecisionTree:\n",
    "    def __init__(self,features,classes,depth_limit=2):\n",
    "        self.root = None\n",
    "        self.depth_limit = depth_limit\n",
    "        self.features = features\n",
    "        self.classes = classes\n",
    "    \n",
    "    def __build_tree__(self,features,classes,depth=0):\n",
    "        best_gain =-1\n",
    "        best_column =-1\n",
    "        best_threshold=-1\n",
    "        if(len(classes)==0):\n",
    "            return None\n",
    "        elif len(classes)==1:\n",
    "            return DecisionNode(None,None,None,classes[0])\n",
    "        elif np.all(classes[0]==classes[:]):\n",
    "            return DecisionNode(None,None,None,classes[0])\n",
    "        elif depth == self.depth_limit:\n",
    "            return DecisionNode(None,None,None,get_most_occurring_feature(classes))\n",
    "        else:\n",
    "            for i in range(features.shape[1]):\n",
    "                values = features[:,i]\n",
    "                column_mean = np.mean(values)\n",
    "                classes_new =[]\n",
    "                temp_X_left,temp_X_right,temp_y_left,temp_y_right = partition_classes(features,classes,i,column_mean)\n",
    "                classes_new.append(temp_y_left)\n",
    "                classes_new.append(temp_y_right)\n",
    "                local_gini = gini_gain(classes,classes_new)\n",
    "                if local_gini > best_gain:\n",
    "                    best_gain = local_gini\n",
    "                    best_column = i\n",
    "                    best_threshold = column_mean\n",
    "            X_left ,X_right,y_left,y_right = partition_classes(features,classes,best_column,best_threshold)\n",
    "            depth+=1\n",
    "            left_tree = self.__build_tree__(np.array(X_left),np.array(y_left),depth)\n",
    "            right_tree = self.__build_tree__(np.array(X_right),np.array(y_right),depth)\n",
    "            return DecisionNode(left_tree,right_tree,lambda feature: feature[best_column] < best_threshold)\n",
    "    def fit(self,features,classes):\n",
    "        self.root = self.__build_tree__(features,classes)\n",
    "    def classify1(self,features):\n",
    "        tree = self.root\n",
    "        return tree.decide(features)\n",
    "    def classify(self,features):\n",
    "        class_labels =[]\n",
    "        for feature in features:\n",
    "            tree = self.root\n",
    "            class_labels.append(tree.decide(feature))\n",
    "        return class_labels\n"
   ]
  },
  {
   "cell_type": "code",
   "execution_count": 233,
   "metadata": {},
   "outputs": [],
   "source": [
    "tree = DecisionTree(df,Y,2)\n",
    "tree.fit(X,Y)"
   ]
  },
  {
   "cell_type": "code",
   "execution_count": 234,
   "metadata": {},
   "outputs": [
    {
     "name": "stdout",
     "output_type": "stream",
     "text": [
      "<class 'numpy.ndarray'>\n"
     ]
    }
   ],
   "source": [
    "print(type(X_test))"
   ]
  },
  {
   "cell_type": "code",
   "execution_count": 235,
   "metadata": {},
   "outputs": [],
   "source": [
    "labels = tree.classify(X_test)"
   ]
  },
  {
   "cell_type": "code",
   "execution_count": 236,
   "metadata": {},
   "outputs": [
    {
     "name": "stdout",
     "output_type": "stream",
     "text": [
      "<class 'list'>\n",
      "<class 'numpy.ndarray'>\n",
      "3147\n",
      "3147\n",
      "2012\n",
      "63.93390530664125\n",
      "(18623, 10)\n"
     ]
    }
   ],
   "source": [
    "print(type(labels))\n",
    "print(type(Y_test))\n",
    "print(len(labels))\n",
    "print(len(Y_test))\n",
    "j=0\n",
    "count=0\n",
    "for i in labels :\n",
    "    if(i==Y_test[j]):\n",
    "        count+=1\n",
    "print(count)\n",
    "print(count/len(labels)*100)\n",
    "print(X.shape)"
   ]
  },
  {
   "cell_type": "code",
   "execution_count": 237,
   "metadata": {},
   "outputs": [],
   "source": [
    "#question 4\n",
    "def find_mode(arr):\n",
    "     frequency_dict = {}\n",
    "     for item in arr:\n",
    "        if item in frequency_dict:\n",
    "            frequency_dict[item] += 1\n",
    "        else:\n",
    "            frequency_dict[item] = 1\n",
    "     max_frequency = max(frequency_dict.values())\n",
    "     modes = [key for key, value in frequency_dict.items() if value == max_frequency]\n",
    "     return modes[0]\n",
    "\n",
    "class Bagging:\n",
    "    def __init__(self,n_estimators=5):\n",
    "        self.n_estimators = n_estimators\n",
    "        self.models=[]\n",
    "    def fit(self,X,y):\n",
    "        samples = X.shape[0]\n",
    "        for i in range(self.n_estimators):\n",
    "            idx = np.random.choice(samples,samples,replace=True)\n",
    "            X_bootstrap = X[idx]\n",
    "            y_bootstrap = y[idx]\n",
    "           \n",
    "            model = DecisionTree(X_bootstrap,y_bootstrap)\n",
    "            model.fit(X_bootstrap,y_bootstrap)\n",
    "            self.models.append(model)\n",
    "    def predict(self,X):\n",
    "        predictions = np.array([model.classify1(X) for model in self.models])\n",
    "        prediction = find_mode(predictions)\n",
    "        return prediction\n"
   ]
  },
  {
   "cell_type": "code",
   "execution_count": 238,
   "metadata": {},
   "outputs": [],
   "source": [
    "bag = Bagging(5)\n",
    "bag.fit(X,Y)"
   ]
  },
  {
   "cell_type": "code",
   "execution_count": 241,
   "metadata": {},
   "outputs": [],
   "source": [
    "label=[]\n",
    "for i in X_test:\n",
    "    label.append(bag.predict(i))\n"
   ]
  },
  {
   "cell_type": "code",
   "execution_count": 242,
   "metadata": {},
   "outputs": [
    {
     "name": "stdout",
     "output_type": "stream",
     "text": [
      "4\n"
     ]
    }
   ],
   "source": [
    "j=0\n",
    "count1=0\n",
    "for i in labels :\n",
    "    if(i==Y_test[j]):\n",
    "        count1+=1\n",
    "    j+=1\n",
    "print(count1)"
   ]
  },
  {
   "cell_type": "code",
   "execution_count": null,
   "metadata": {},
   "outputs": [],
   "source": []
  }
 ],
 "metadata": {
  "kernelspec": {
   "display_name": "dl",
   "language": "python",
   "name": "python3"
  },
  "language_info": {
   "codemirror_mode": {
    "name": "ipython",
    "version": 3
   },
   "file_extension": ".py",
   "mimetype": "text/x-python",
   "name": "python",
   "nbconvert_exporter": "python",
   "pygments_lexer": "ipython3",
   "version": "3.11.5"
  }
 },
 "nbformat": 4,
 "nbformat_minor": 2
}
